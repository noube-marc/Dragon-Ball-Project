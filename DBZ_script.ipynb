{
 "cells": [
  {
   "cell_type": "markdown",
   "id": "51b96f36-98e9-464c-8fe1-8f1bb25f5457",
   "metadata": {},
   "source": [
    "### Importation des bibliothèques nécessaires "
   ]
  },
  {
   "cell_type": "code",
   "execution_count": 43,
   "id": "7bf9a9d9-361e-4684-ba09-810044a5f95b",
   "metadata": {},
   "outputs": [],
   "source": [
    "import requests\n",
    "import pandas as pd\n",
    "from tqdm import tqdm\n",
    "import deepl\n",
    "import os"
   ]
  },
  {
   "cell_type": "code",
   "execution_count": 44,
   "id": "8fcf9d58-e0ce-4d85-928e-4dd71ca0075f",
   "metadata": {},
   "outputs": [],
   "source": [
    "#Dossier de destination\n",
    "outputFolder=\"outputFolder\""
   ]
  },
  {
   "cell_type": "markdown",
   "id": "dad02079-aa14-4a21-8ac6-62a1369c3a81",
   "metadata": {},
   "source": [
    "# Collecte des personnages de Dragon Ball à laide de la DragonBallAPI"
   ]
  },
  {
   "cell_type": "code",
   "execution_count": null,
   "id": "d51a4076-8713-464c-a1f7-e14a335f45cc",
   "metadata": {
    "scrolled": true
   },
   "outputs": [],
   "source": [
    "#Endpoint dragon ball API\n",
    "baseUrl=\"https://dragonball-api.com/api\"\n",
    "\n",
    "#nombre total de personnage\n",
    "maxId=80\n",
    "\n",
    "#Paramètre des charactères de l'API dragon ball\n",
    "characterParameter=\"/characters/\"\n",
    "\n",
    "#Liste vide de personnages\n",
    "charactersList=[]\n",
    "\n",
    "#Boucle pour qui fait varier la valeur de i de 1 à 80\n",
    "for i in tqdm(range(1,maxId),desc=\"Chargement des personnages de Dragon Ball:-)\"):\n",
    "    try:\n",
    "        #Requête Get\n",
    "        characterRequest=requests.get(f\"https://dragonball-api.com/api{characterParameter}{i}\")\n",
    "        if characterRequest.status_code==200:\n",
    "            characterRequest=characterRequest.json()\n",
    "            character= dict(list(characterRequest.items())[:8])\n",
    "            character[\"idPlanet\"]=characterRequest[\"originPlanet\"][\"id\"]\n",
    "            charactersList.append(character)\n",
    "    except OSError as error:\n",
    "            print(\"Désolé une erreur s'est produite lors du chargement de ce personnage :-(\")\n",
    "            print(f\"Type d'erreur : {TypeError} \")\n",
    "            print(f\"Nom de l'erreur : {NameError} \")\n",
    "            print(f\"index de l'erreur : {IndexError} \")\n",
    "            print(error)"
   ]
  },
  {
   "cell_type": "code",
   "execution_count": null,
   "id": "e8eaf3af-73d2-4697-96ad-e989b2c56159",
   "metadata": {},
   "outputs": [],
   "source": [
    "charactersDataFrame=pd.DataFrame(charactersList)\n",
    "\n",
    "#Nettoyage de la colonne Ki et maxKi\n",
    "charactersDataFrame[\"ki\"]=charactersDataFrame[\"ki\"].replace([r\"\\.\", r\"\\s\", r\",\",r\"(?i)Billion\",r\"(?i)Septillion\",\"unknown\",r\"(?i)quadrillion\",r\"(?i)Quintillion\",r\"(?i)Googolplex\",r\"(?i)Trillion\"],\n",
    "                                                            [\"\",\"\",\"\",\"0000000\",\"000000000000\",\"\",\"000000000\",\"0000000000\",\"00000000000000\",\"00000000\"],regex=True)\n",
    "\n",
    "charactersDataFrame[\"maxKi\"]=charactersDataFrame[\"maxKi\"].replace([r\"\\.\", r\"\\s\", r\",\",r\"(?i)Billion\",r\"(?i)Septillion\",\"unknown\",r\"(?i)quadrillion\",r\"(?i)Quintillion\",r\"(?i)Googolplex\",r\"(?i)Trillion\",r\"(?i)Sextillion\",r\"(?i)Septllion\"],\n",
    "                                                            [\"\",\"\",\"\",\"0000000\",\"000000000000\",\"\",\"000000000\",\"0000000000\",\"00000000000000\",\"00000000\",\"00000000000\",\"000000000000\"],regex=True)\n",
    "auth_key = os.getenv(\"deeplKey\")\n",
    "translator = deepl.Translator(auth_key)\n",
    "#Traduction de la colonne description à l'aide de l'API de Deepl\n",
    "charactersDataFrame[\"description\"]=charactersDataFrame[\"description\"].apply(lambda x: translator.translate_text(x,target_lang=\"FR\"))\n",
    "charactersDataFrame\n",
    "charactersDataFrame.to_csv(f\"{outputFolder}/DragonBallCharacter.csv\",\";\",index=False)"
   ]
  },
  {
   "cell_type": "markdown",
   "id": "10375ed3-57c4-4d0c-805b-8d4524d44c87",
   "metadata": {},
   "source": [
    "# Collecte des transformations de Dragon Ball à laide de la DragonBallAPI"
   ]
  },
  {
   "cell_type": "code",
   "execution_count": null,
   "id": "4dcd399a-abde-46fc-8115-e88bd09b1f81",
   "metadata": {
    "scrolled": true
   },
   "outputs": [],
   "source": [
    "#Liste vide des transformations des personnages\n",
    "transformationsList=[]\n",
    "\n",
    "for i in tqdm(range(1,maxId),desc=\"Chargement des transformations des personnages de Dragon Ball:-)\"):\n",
    "    try:\n",
    "        #Requête Get\n",
    "        characterRequest=requests.get(f\"https://dragonball-api.com/api{characterParameter}{i}\")\n",
    "        if characterRequest.status_code==200:\n",
    "            characterRequest=characterRequest.json()\n",
    "            transformationscharacter= characterRequest[\"transformations\"]\n",
    "            if transformationscharacter:\n",
    "                for transformation in transformationscharacter:\n",
    "                    transformation[\"idCharacter\"]=characterRequest[\"id\"]\n",
    "                    transformationsList.append(transformation)\n",
    "    except OSError as error:\n",
    "            print(f\"Désolé une erreur s'est produite lors du chargement des transformations du personnage {i} :-(\")\n",
    "            print(f\"Type d'erreur : {TypeError} \")\n",
    "            print(f\"Nom de l'erreur : {NameError} \")\n",
    "            print(f\"index de l'erreur : {IndexError} \")\n",
    "            print(error)"
   ]
  },
  {
   "cell_type": "code",
   "execution_count": 49,
   "id": "2af7f07d-4be9-4a62-b26b-356fd60d91ef",
   "metadata": {},
   "outputs": [],
   "source": [
    "transformationsDataFrames=pd.DataFrame(transformationsList)\n",
    "del transformationsDataFrames[\"deletedAt\"]\n",
    "transformationsDataFrames[\"ki\"]=transformationsDataFrames[\"ki\"].replace([r\"\\.\", r\"\\s\", r\",\",r\"(?i)Billion\",r\"(?i)Septillion\",\"unknown\",r\"(?i)quadrillion\",r\"(?i)Quintillion\",r\"(?i)Googolplex\",r\"(?i)Trillion\",r\"(?i)Sextillion\",r\"(?i)Septllion\",r\"(?i)octillion\"],\n",
    "                                                            [\"\",\"\",\"\",\"0000000\",\"000000000000\",\"\",\"000000000\",\"0000000000\",\"00000000000000\",\"00000000\",\"00000000000\",\"000000000000\",\"0000000000000\"],regex=True)\n",
    "\n",
    "transformationsDataFrames\n",
    "transformationsDataFrames.to_csv(f\"{outputFolder}/DragonBallTransformations.csv\",\";\",index=False)"
   ]
  },
  {
   "cell_type": "markdown",
   "id": "b644b3ee-87c2-4362-b37b-f2b1e702ac77",
   "metadata": {},
   "source": [
    "# Collecte des Planetes de Dragon Ball à laide de la DragonBallAPI"
   ]
  },
  {
   "cell_type": "code",
   "execution_count": 50,
   "id": "0f2a28cc-5115-49e8-9c0e-e1154098c3b8",
   "metadata": {},
   "outputs": [],
   "source": [
    "#Paramètre des charactères de l'API dragon ball\n",
    "planetParameter=\"/planets\"\n",
    "\n",
    "#Requête Get\n",
    "planetRequest=requests.get(f\"https://dragonball-api.com/api{planetParameter}\")\n",
    "planetRequest=planetRequest.json()\n",
    "planetDataFrame=pd.json_normalize(planetRequest[\"items\"])\n",
    "del planetDataFrame[\"deletedAt\"]"
   ]
  },
  {
   "cell_type": "code",
   "execution_count": 51,
   "id": "5daa114b-7b1e-4361-86f4-696926241af2",
   "metadata": {
    "scrolled": true
   },
   "outputs": [],
   "source": [
    "planetDataFrame[\"description\"]=planetDataFrame[\"description\"].apply(lambda x: translator.translate_text(x,target_lang=\"FR\"))\n",
    "planetDataFrame\n",
    "planetDataFrame.to_csv(f\"{outputFolder}/DragonBallPlanet.csv\",\";\",index=False)"
   ]
  }
 ],
 "metadata": {
  "kernelspec": {
   "display_name": "Python 3",
   "language": "python",
   "name": "python3"
  },
  "language_info": {
   "codemirror_mode": {
    "name": "ipython",
    "version": 3
   },
   "file_extension": ".py",
   "mimetype": "text/x-python",
   "name": "python",
   "nbconvert_exporter": "python",
   "pygments_lexer": "ipython3",
   "version": "3.11.4"
  }
 },
 "nbformat": 4,
 "nbformat_minor": 5
}
